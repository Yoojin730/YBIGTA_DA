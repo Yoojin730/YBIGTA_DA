{
  "nbformat": 4,
  "nbformat_minor": 0,
  "metadata": {
    "kernelspec": {
      "display_name": "Python 3",
      "language": "python",
      "name": "python3"
    },
    "language_info": {
      "codemirror_mode": {
        "name": "ipython",
        "version": 3
      },
      "file_extension": ".py",
      "mimetype": "text/x-python",
      "name": "python",
      "nbconvert_exporter": "python",
      "pygments_lexer": "ipython3",
      "version": "3.8.3"
    },
    "colab": {
      "name": "Crawling_NaverAPI/Ajax.ipynb",
      "provenance": [],
      "include_colab_link": true
    }
  },
  "cells": [
    {
      "cell_type": "markdown",
      "metadata": {
        "id": "view-in-github",
        "colab_type": "text"
      },
      "source": [
        "<a href=\"https://colab.research.google.com/github/Yoojin730/YBIGTA_DA/blob/main/210313_Crawling(NaverAPI/Ajax).ipynb\" target=\"_parent\"><img src=\"https://colab.research.google.com/assets/colab-badge.svg\" alt=\"Open In Colab\"/></a>"
      ]
    },
    {
      "cell_type": "markdown",
      "metadata": {
        "id": "LPk9M5cNkqQz"
      },
      "source": [
        "## NAVER api 이용"
      ]
    },
    {
      "cell_type": "markdown",
      "metadata": {
        "id": "GgKMmohOkqRO"
      },
      "source": [
        "네이버 블로그의 특정 키워드 크롤링하기"
      ]
    },
    {
      "cell_type": "markdown",
      "metadata": {
        "id": "l9UakAbzkqRR"
      },
      "source": [
        "네이버 개발자 예제: https://developers.naver.com/docs/search/blog/"
      ]
    },
    {
      "cell_type": "code",
      "metadata": {
        "id": "Zp_n_f_AkqRS"
      },
      "source": [
        "import os\n",
        "import sys\n",
        "import urllib.request\n",
        "import json \n",
        "import pandas as pd"
      ],
      "execution_count": 1,
      "outputs": []
    },
    {
      "cell_type": "code",
      "metadata": {
        "id": "TyLRe8HZkqRU",
        "colab": {
          "base_uri": "https://localhost:8080/"
        },
        "outputId": "718c133c-c7f6-4b40-a4f4-9ef73ad53613"
      },
      "source": [
        "client_id = \"nrTrmuIdwVC3z_0faxeo\"\n",
        "client_secret = \"tn2ngwCm9_\"\n",
        "\n",
        "encText = urllib.parse.quote(\"빅데이터\") \n",
        "\n",
        "url = \"https://openapi.naver.com/v1/search/news?query=\" + encText # json 결과\n",
        "\n",
        "request = urllib.request.Request(url)\n",
        "\n",
        "# 요청할 url에 헤더 설정해주기\n",
        "request.add_header(\"X-Naver-Client-Id\",client_id)\n",
        "request.add_header(\"X-Naver-Client-Secret\",client_secret)\n",
        "\n",
        "response = urllib.request.urlopen(request)\n",
        "\n",
        "rescode = response.getcode()\n",
        "\n",
        "# code = 200일 때만 정상적으로 실행된거에요\n",
        "if(rescode==200):\n",
        "    response_body = response.read()\n",
        "    print(response_body.decode('utf-8'))\n",
        "else:\n",
        "    print(\"Error Code:\" + rescode)"
      ],
      "execution_count": 10,
      "outputs": [
        {
          "output_type": "stream",
          "text": [
            "{\n",
            "\"lastBuildDate\": \"Fri, 19 Mar 2021 02:45:13 +0900\",\n",
            "\"total\": 891735,\n",
            "\"start\": 1,\n",
            "\"display\": 10,\n",
            "\"items\": [\n",
            "{\n",
            "\"title\": \"정부, 2021년 민군기술협력사업에 2059억원 투자\",\n",
            "\"originallink\": \"http://www.irobotnews.com/news/articleView.html?idxno=24257\",\n",
            "\"link\": \"http://www.irobotnews.com/news/articleView.html?idxno=24257\",\n",
            "\"description\": \"또한 IoT, <b>빅데이터</b>, 증강현실(AR) 등 4차 산업혁명 핵심기술에 대해 부처간 공동연구개발(다부처연계)을 추진하고, 국방분야 활용(Spin-on)을 통해 실증기록(Trackrecord)을 확보해 나갈 예정이다. 정비창의 스마트화를 위한... \",\n",
            "\"pubDate\": \"Fri, 19 Mar 2021 02:17:00 +0900\"\n",
            "\n",
            "},\n",
            "{\n",
            "\"title\": \"[뉴스워커 창간 9주년] 광주전남형 산업-인공지능 연계 필요\",\n",
            "\"originallink\": \"http://www.newsworker.co.kr/news/articleView.html?idxno=106573\",\n",
            "\"link\": \"http://www.newsworker.co.kr/news/articleView.html?idxno=106573\",\n",
            "\"description\": \"인공지능을 활용한 일자리 매칭 서비스를 제공하거나 인공지능 학습용 데이터를 구축하는 등 정부 부처의... '광주전남정책Brief'에 따르면 고용노동부, 과학기술정보통신부 등 각 부처에서는 인공지능, <b>빅데이터</b>, 5G... \",\n",
            "\"pubDate\": \"Fri, 19 Mar 2021 01:06:00 +0900\"\n",
            "\n",
            "},\n",
            "{\n",
            "\"title\": \"코로나19 1년…서울 골목상권 59% 매출 하락, 41%는 유지‧상승\",\n",
            "\"originallink\": \"http://www.ecomedia.co.kr/news/newsview.php?ncode=1065539221858592\",\n",
            "\"link\": \"http://www.ecomedia.co.kr/news/newsview.php?ncode=1065539221858592\",\n",
            "\"description\": \"<b>빅데이터</b> 분석을 통해 들여다본 결과를 발표했다. 서울신용보증재단 소상공인 정책연구센터와 함께 서울시내 전체 총 1009개 골목상권의 월 평균 매출 <b>빅데이터</b>를 분석했다. 분석 결과 코로나 이전 대비 골목상권... \",\n",
            "\"pubDate\": \"Fri, 19 Mar 2021 00:27:00 +0900\"\n",
            "\n",
            "},\n",
            "{\n",
            "\"title\": \"AI가 기업 부실 '미리 예측' 크레덱스 서비스 주목\",\n",
            "\"originallink\": \"http://www.kyongbuk.co.kr/news/articleView.html?idxno=2071761\",\n",
            "\"link\": \"http://www.kyongbuk.co.kr/news/articleView.html?idxno=2071761\",\n",
            "\"description\": \"크레덱스(CREDEX·www.credex.co.kr)는 AI·<b>빅데이터</b> 기술을 활용해 기업의 데이터를 실시간 수집·분석한 뒤 기업부실 리스크와 자금조달 능력을 사전 예측함으로써 부실이 발생하기 전 고객에게 예측 정보를 제공해주는... \",\n",
            "\"pubDate\": \"Fri, 19 Mar 2021 00:13:00 +0900\"\n",
            "\n",
            "},\n",
            "{\n",
            "\"title\": \"[빅뉴스] ‘제로금리 동결’ 美연준 결정에 한국은행 “경계심 유지”…학교 ...\",\n",
            "\"originallink\": \"http://news.kbs.co.kr/news/view.do?ncd=5142621&amp;ref=A\",\n",
            "\"link\": \"https://news.naver.com/main/read.nhn?mode=LSD&mid=sec&sid1=101&oid=056&aid=0011009550\",\n",
            "\"description\": \"키워드로 뉴스를 살펴보는 <b>빅데이터</b> 뉴스, 빅뉴습니다. 오늘자 9천여 건의 기사에 가장 많이 등장한 단어들인데요. 경제면부터 분야별로 보겠습니다. 전 세계의 시선이 집중됐던 미국 연준의 '연방공개시장위원회'가... \",\n",
            "\"pubDate\": \"Fri, 19 Mar 2021 00:09:00 +0900\"\n",
            "\n",
            "},\n",
            "{\n",
            "\"title\": \"부산교육청, 초중고 AI교육 전문 플랫폼 전국 최초 구축\",\n",
            "\"originallink\": \"http://www.kookje.co.kr/news2011/asp/newsbody.asp?code=0300&key=20210319.22006006010\",\n",
            "\"link\": \"http://www.kookje.co.kr/news2011/asp/newsbody.asp?code=0300&key=20210319.22006006010\",\n",
            "\"description\": \"관련 학문을 배울 수 있게 꾸며진 홈페이지(bmooc.pen.go.kr)가 B-MOOC의 핵심이다. 데이터사이언스와 <b>빅데이터</b>, AI 관련 강좌 90개를 지원하며, 수료한 학생에게는 교육청이 인정하는 수료증도 발급한다.\",\n",
            "\"pubDate\": \"Fri, 19 Mar 2021 00:09:00 +0900\"\n",
            "\n",
            "},\n",
            "{\n",
            "\"title\": \"매물 쌓이고 거래량도 '뚝'… 집값 안정화 '조짐'\",\n",
            "\"originallink\": \"https://www.asiatoday.co.kr/view.php?key=20210318010012056\",\n",
            "\"link\": \"https://www.asiatoday.co.kr/view.php?key=20210318010012056\",\n",
            "\"description\": \"부동산 <b>빅데이터</b>업체 아실(아파트실거래가)에 따르면, 이날 기준 서울 아파트 매물(매매·전세·월세)은 지난달에 비해 11.3%(7만6743건→8만5459건) 늘었다. 경기도 역시 9만8127건에서 이달 10만9685건으로 11.7... \",\n",
            "\"pubDate\": \"Fri, 19 Mar 2021 00:02:00 +0900\"\n",
            "\n",
            "},\n",
            "{\n",
            "\"title\": \"이통3사 주총 시즌 돌입…기업별 탈통신 전략은?\",\n",
            "\"originallink\": \"http://www.fntimes.com/html/view.php?ud=202103182137484013645ffc9771_18\",\n",
            "\"link\": \"http://www.fntimes.com/html/view.php?ud=202103182137484013645ffc9771_18\",\n",
            "\"description\": \"앞서 황 사장은 지난해 조직개편을 통해 스마트 헬스, 보안, 교육, 광고, 콘텐츠, 데이터 사업 등 흩어진... <b>빅데이터</b>, 클라우드의 강점을 경쟁력으로 미디어·콘텐츠, 로봇, 바이오 헬스케어 등 신사업에 도전해야 하는... \",\n",
            "\"pubDate\": \"Fri, 19 Mar 2021 00:01:00 +0900\"\n",
            "\n",
            "},\n",
            "{\n",
            "\"title\": \"현대적 <b>데이터</b> 관리·분석 최적화로 <b>데이터</b> 경제 주도할 스토리지 통합 플랫폼...\",\n",
            "\"originallink\": \"http://www.etnews.com/20210318000246\",\n",
            "\"link\": \"https://news.naver.com/main/read.nhn?mode=LSD&mid=sec&sid1=101&oid=030&aid=0002934152\",\n",
            "\"description\": \"팬데믹으로 인해 새로운 디지털 경제가 도래하면서, <b>데이터</b>의 가치는 그 어느 때보다 높아졌다. 전문가들은 2025년 전 세계 <b>데이터</b>의 총 규모가 175 제타 바이트로 증가할 것이라고 전망하고 있다. <b>데이터</b>가 폭증하는... \",\n",
            "\"pubDate\": \"Fri, 19 Mar 2021 00:01:00 +0900\"\n",
            "\n",
            "},\n",
            "{\n",
            "\"title\": \"한국장학진흥원, <b>빅데이터</b>전문가·코딩지도사 자격증 무료수강 교육 이벤트 모...\",\n",
            "\"originallink\": \"http://www.epnc.co.kr/news/articleView.html?idxno=203778\",\n",
            "\"link\": \"http://www.epnc.co.kr/news/articleView.html?idxno=203778\",\n",
            "\"description\": \" 자격증 교육기관 '한국장학진흥원'이 <b>빅데이터</b>전문가 및 코딩지도사 자격증 취득에 필요한 인강 수강료와... 이벤트 참여 방법은 한국장학진흥원 홈페이지 회원가입 시 추천인 공란에 '<b>빅데이터</b>'를 입력하는 것이다.... \",\n",
            "\"pubDate\": \"Fri, 19 Mar 2021 00:00:00 +0900\"\n",
            "\n",
            "}\n",
            "]\n",
            "}\n",
            "\n"
          ],
          "name": "stdout"
        }
      ]
    },
    {
      "cell_type": "code",
      "metadata": {
        "id": "yAYITbhakqRY",
        "colab": {
          "base_uri": "https://localhost:8080/"
        },
        "outputId": "240891fd-ad00-4dc7-f1c3-5c304d44f702"
      },
      "source": [
        "#json.loads: json 형식의 문자열을 받아서 dict로 바꿔줘요\n",
        "s = json.loads(response_body.decode(\"utf-8\"))\n",
        "print(type(s))"
      ],
      "execution_count": 12,
      "outputs": [
        {
          "output_type": "stream",
          "text": [
            "<class 'dict'>\n"
          ],
          "name": "stdout"
        }
      ]
    },
    {
      "cell_type": "code",
      "metadata": {
        "id": "eIfTzyhAkqRZ",
        "colab": {
          "base_uri": "https://localhost:8080/"
        },
        "outputId": "91bfb1d6-f1b7-425c-bbc5-622401a52b23"
      },
      "source": [
        "s.keys()"
      ],
      "execution_count": 13,
      "outputs": [
        {
          "output_type": "execute_result",
          "data": {
            "text/plain": [
              "dict_keys(['lastBuildDate', 'total', 'start', 'display', 'items'])"
            ]
          },
          "metadata": {
            "tags": []
          },
          "execution_count": 13
        }
      ]
    },
    {
      "cell_type": "code",
      "metadata": {
        "id": "N6DoTJONkqRa",
        "colab": {
          "base_uri": "https://localhost:8080/"
        },
        "outputId": "0838e91b-0ded-44d0-96b5-9af7d16e5c20"
      },
      "source": [
        "# 우리가 관심있는 정보들은 다 items에 들어 있네요!\n",
        "s[\"items\"]"
      ],
      "execution_count": 14,
      "outputs": [
        {
          "output_type": "execute_result",
          "data": {
            "text/plain": [
              "[{'description': '또한 IoT, <b>빅데이터</b>, 증강현실(AR) 등 4차 산업혁명 핵심기술에 대해 부처간 공동연구개발(다부처연계)을 추진하고, 국방분야 활용(Spin-on)을 통해 실증기록(Trackrecord)을 확보해 나갈 예정이다. 정비창의 스마트화를 위한... ',\n",
              "  'link': 'http://www.irobotnews.com/news/articleView.html?idxno=24257',\n",
              "  'originallink': 'http://www.irobotnews.com/news/articleView.html?idxno=24257',\n",
              "  'pubDate': 'Fri, 19 Mar 2021 02:17:00 +0900',\n",
              "  'title': '정부, 2021년 민군기술협력사업에 2059억원 투자'},\n",
              " {'description': \"인공지능을 활용한 일자리 매칭 서비스를 제공하거나 인공지능 학습용 데이터를 구축하는 등 정부 부처의... '광주전남정책Brief'에 따르면 고용노동부, 과학기술정보통신부 등 각 부처에서는 인공지능, <b>빅데이터</b>, 5G... \",\n",
              "  'link': 'http://www.newsworker.co.kr/news/articleView.html?idxno=106573',\n",
              "  'originallink': 'http://www.newsworker.co.kr/news/articleView.html?idxno=106573',\n",
              "  'pubDate': 'Fri, 19 Mar 2021 01:06:00 +0900',\n",
              "  'title': '[뉴스워커 창간 9주년] 광주전남형 산업-인공지능 연계 필요'},\n",
              " {'description': '<b>빅데이터</b> 분석을 통해 들여다본 결과를 발표했다. 서울신용보증재단 소상공인 정책연구센터와 함께 서울시내 전체 총 1009개 골목상권의 월 평균 매출 <b>빅데이터</b>를 분석했다. 분석 결과 코로나 이전 대비 골목상권... ',\n",
              "  'link': 'http://www.ecomedia.co.kr/news/newsview.php?ncode=1065539221858592',\n",
              "  'originallink': 'http://www.ecomedia.co.kr/news/newsview.php?ncode=1065539221858592',\n",
              "  'pubDate': 'Fri, 19 Mar 2021 00:27:00 +0900',\n",
              "  'title': '코로나19 1년…서울 골목상권 59% 매출 하락, 41%는 유지‧상승'},\n",
              " {'description': '크레덱스(CREDEX·www.credex.co.kr)는 AI·<b>빅데이터</b> 기술을 활용해 기업의 데이터를 실시간 수집·분석한 뒤 기업부실 리스크와 자금조달 능력을 사전 예측함으로써 부실이 발생하기 전 고객에게 예측 정보를 제공해주는... ',\n",
              "  'link': 'http://www.kyongbuk.co.kr/news/articleView.html?idxno=2071761',\n",
              "  'originallink': 'http://www.kyongbuk.co.kr/news/articleView.html?idxno=2071761',\n",
              "  'pubDate': 'Fri, 19 Mar 2021 00:13:00 +0900',\n",
              "  'title': \"AI가 기업 부실 '미리 예측' 크레덱스 서비스 주목\"},\n",
              " {'description': \"키워드로 뉴스를 살펴보는 <b>빅데이터</b> 뉴스, 빅뉴습니다. 오늘자 9천여 건의 기사에 가장 많이 등장한 단어들인데요. 경제면부터 분야별로 보겠습니다. 전 세계의 시선이 집중됐던 미국 연준의 '연방공개시장위원회'가... \",\n",
              "  'link': 'https://news.naver.com/main/read.nhn?mode=LSD&mid=sec&sid1=101&oid=056&aid=0011009550',\n",
              "  'originallink': 'http://news.kbs.co.kr/news/view.do?ncd=5142621&amp;ref=A',\n",
              "  'pubDate': 'Fri, 19 Mar 2021 00:09:00 +0900',\n",
              "  'title': '[빅뉴스] ‘제로금리 동결’ 美연준 결정에 한국은행 “경계심 유지”…학교 ...'},\n",
              " {'description': '관련 학문을 배울 수 있게 꾸며진 홈페이지(bmooc.pen.go.kr)가 B-MOOC의 핵심이다. 데이터사이언스와 <b>빅데이터</b>, AI 관련 강좌 90개를 지원하며, 수료한 학생에게는 교육청이 인정하는 수료증도 발급한다.',\n",
              "  'link': 'http://www.kookje.co.kr/news2011/asp/newsbody.asp?code=0300&key=20210319.22006006010',\n",
              "  'originallink': 'http://www.kookje.co.kr/news2011/asp/newsbody.asp?code=0300&key=20210319.22006006010',\n",
              "  'pubDate': 'Fri, 19 Mar 2021 00:09:00 +0900',\n",
              "  'title': '부산교육청, 초중고 AI교육 전문 플랫폼 전국 최초 구축'},\n",
              " {'description': '부동산 <b>빅데이터</b>업체 아실(아파트실거래가)에 따르면, 이날 기준 서울 아파트 매물(매매·전세·월세)은 지난달에 비해 11.3%(7만6743건→8만5459건) 늘었다. 경기도 역시 9만8127건에서 이달 10만9685건으로 11.7... ',\n",
              "  'link': 'https://www.asiatoday.co.kr/view.php?key=20210318010012056',\n",
              "  'originallink': 'https://www.asiatoday.co.kr/view.php?key=20210318010012056',\n",
              "  'pubDate': 'Fri, 19 Mar 2021 00:02:00 +0900',\n",
              "  'title': \"매물 쌓이고 거래량도 '뚝'… 집값 안정화 '조짐'\"},\n",
              " {'description': '앞서 황 사장은 지난해 조직개편을 통해 스마트 헬스, 보안, 교육, 광고, 콘텐츠, 데이터 사업 등 흩어진... <b>빅데이터</b>, 클라우드의 강점을 경쟁력으로 미디어·콘텐츠, 로봇, 바이오 헬스케어 등 신사업에 도전해야 하는... ',\n",
              "  'link': 'http://www.fntimes.com/html/view.php?ud=202103182137484013645ffc9771_18',\n",
              "  'originallink': 'http://www.fntimes.com/html/view.php?ud=202103182137484013645ffc9771_18',\n",
              "  'pubDate': 'Fri, 19 Mar 2021 00:01:00 +0900',\n",
              "  'title': '이통3사 주총 시즌 돌입…기업별 탈통신 전략은?'},\n",
              " {'description': '팬데믹으로 인해 새로운 디지털 경제가 도래하면서, <b>데이터</b>의 가치는 그 어느 때보다 높아졌다. 전문가들은 2025년 전 세계 <b>데이터</b>의 총 규모가 175 제타 바이트로 증가할 것이라고 전망하고 있다. <b>데이터</b>가 폭증하는... ',\n",
              "  'link': 'https://news.naver.com/main/read.nhn?mode=LSD&mid=sec&sid1=101&oid=030&aid=0002934152',\n",
              "  'originallink': 'http://www.etnews.com/20210318000246',\n",
              "  'pubDate': 'Fri, 19 Mar 2021 00:01:00 +0900',\n",
              "  'title': '현대적 <b>데이터</b> 관리·분석 최적화로 <b>데이터</b> 경제 주도할 스토리지 통합 플랫폼...'},\n",
              " {'description': \"\\xa0자격증 교육기관 '한국장학진흥원'이 <b>빅데이터</b>전문가 및 코딩지도사 자격증 취득에 필요한 인강 수강료와... 이벤트 참여 방법은 한국장학진흥원 홈페이지 회원가입 시 추천인 공란에 '<b>빅데이터</b>'를 입력하는 것이다.... \",\n",
              "  'link': 'http://www.epnc.co.kr/news/articleView.html?idxno=203778',\n",
              "  'originallink': 'http://www.epnc.co.kr/news/articleView.html?idxno=203778',\n",
              "  'pubDate': 'Fri, 19 Mar 2021 00:00:00 +0900',\n",
              "  'title': '한국장학진흥원, <b>빅데이터</b>전문가·코딩지도사 자격증 무료수강 교육 이벤트 모...'}]"
            ]
          },
          "metadata": {
            "tags": []
          },
          "execution_count": 14
        }
      ]
    },
    {
      "cell_type": "code",
      "metadata": {
        "id": "LikPuk19kqRb",
        "colab": {
          "base_uri": "https://localhost:8080/",
          "height": 1000
        },
        "outputId": "b6db9ccc-6be5-45b6-fd08-7c612991093e"
      },
      "source": [
        "pd.DataFrame(s[\"items\"]).head()"
      ],
      "execution_count": 15,
      "outputs": [
        {
          "output_type": "execute_result",
          "data": {
            "text/html": [
              "<div>\n",
              "<style scoped>\n",
              "    .dataframe tbody tr th:only-of-type {\n",
              "        vertical-align: middle;\n",
              "    }\n",
              "\n",
              "    .dataframe tbody tr th {\n",
              "        vertical-align: top;\n",
              "    }\n",
              "\n",
              "    .dataframe thead th {\n",
              "        text-align: right;\n",
              "    }\n",
              "</style>\n",
              "<table border=\"1\" class=\"dataframe\">\n",
              "  <thead>\n",
              "    <tr style=\"text-align: right;\">\n",
              "      <th></th>\n",
              "      <th>title</th>\n",
              "      <th>originallink</th>\n",
              "      <th>link</th>\n",
              "      <th>description</th>\n",
              "      <th>pubDate</th>\n",
              "    </tr>\n",
              "  </thead>\n",
              "  <tbody>\n",
              "    <tr>\n",
              "      <th>0</th>\n",
              "      <td>정부, 2021년 민군기술협력사업에 2059억원 투자</td>\n",
              "      <td>http://www.irobotnews.com/news/articleView.htm...</td>\n",
              "      <td>http://www.irobotnews.com/news/articleView.htm...</td>\n",
              "      <td>또한 IoT, &lt;b&gt;빅데이터&lt;/b&gt;, 증강현실(AR) 등 4차 산업혁명 핵심기술에 ...</td>\n",
              "      <td>Fri, 19 Mar 2021 02:17:00 +0900</td>\n",
              "    </tr>\n",
              "    <tr>\n",
              "      <th>1</th>\n",
              "      <td>[뉴스워커 창간 9주년] 광주전남형 산업-인공지능 연계 필요</td>\n",
              "      <td>http://www.newsworker.co.kr/news/articleView.h...</td>\n",
              "      <td>http://www.newsworker.co.kr/news/articleView.h...</td>\n",
              "      <td>인공지능을 활용한 일자리 매칭 서비스를 제공하거나 인공지능 학습용 데이터를 구축하는...</td>\n",
              "      <td>Fri, 19 Mar 2021 01:06:00 +0900</td>\n",
              "    </tr>\n",
              "    <tr>\n",
              "      <th>2</th>\n",
              "      <td>코로나19 1년…서울 골목상권 59% 매출 하락, 41%는 유지‧상승</td>\n",
              "      <td>http://www.ecomedia.co.kr/news/newsview.php?nc...</td>\n",
              "      <td>http://www.ecomedia.co.kr/news/newsview.php?nc...</td>\n",
              "      <td>&lt;b&gt;빅데이터&lt;/b&gt; 분석을 통해 들여다본 결과를 발표했다. 서울신용보증재단 소상공...</td>\n",
              "      <td>Fri, 19 Mar 2021 00:27:00 +0900</td>\n",
              "    </tr>\n",
              "    <tr>\n",
              "      <th>3</th>\n",
              "      <td>AI가 기업 부실 '미리 예측' 크레덱스 서비스 주목</td>\n",
              "      <td>http://www.kyongbuk.co.kr/news/articleView.htm...</td>\n",
              "      <td>http://www.kyongbuk.co.kr/news/articleView.htm...</td>\n",
              "      <td>크레덱스(CREDEX·www.credex.co.kr)는 AI·&lt;b&gt;빅데이터&lt;/b&gt; ...</td>\n",
              "      <td>Fri, 19 Mar 2021 00:13:00 +0900</td>\n",
              "    </tr>\n",
              "    <tr>\n",
              "      <th>4</th>\n",
              "      <td>[빅뉴스] ‘제로금리 동결’ 美연준 결정에 한국은행 “경계심 유지”…학교 ...</td>\n",
              "      <td>http://news.kbs.co.kr/news/view.do?ncd=5142621...</td>\n",
              "      <td>https://news.naver.com/main/read.nhn?mode=LSD&amp;...</td>\n",
              "      <td>키워드로 뉴스를 살펴보는 &lt;b&gt;빅데이터&lt;/b&gt; 뉴스, 빅뉴습니다. 오늘자 9천여 건...</td>\n",
              "      <td>Fri, 19 Mar 2021 00:09:00 +0900</td>\n",
              "    </tr>\n",
              "  </tbody>\n",
              "</table>\n",
              "</div>"
            ],
            "text/plain": [
              "                                          title  ...                          pubDate\n",
              "0                 정부, 2021년 민군기술협력사업에 2059억원 투자  ...  Fri, 19 Mar 2021 02:17:00 +0900\n",
              "1             [뉴스워커 창간 9주년] 광주전남형 산업-인공지능 연계 필요  ...  Fri, 19 Mar 2021 01:06:00 +0900\n",
              "2        코로나19 1년…서울 골목상권 59% 매출 하락, 41%는 유지‧상승  ...  Fri, 19 Mar 2021 00:27:00 +0900\n",
              "3                 AI가 기업 부실 '미리 예측' 크레덱스 서비스 주목  ...  Fri, 19 Mar 2021 00:13:00 +0900\n",
              "4  [빅뉴스] ‘제로금리 동결’ 美연준 결정에 한국은행 “경계심 유지”…학교 ...  ...  Fri, 19 Mar 2021 00:09:00 +0900\n",
              "\n",
              "[5 rows x 5 columns]"
            ]
          },
          "metadata": {
            "tags": []
          },
          "execution_count": 15
        }
      ]
    },
    {
      "cell_type": "markdown",
      "metadata": {
        "id": "K_F0ckOgkqRc"
      },
      "source": [
        "## Ajax 이용"
      ]
    },
    {
      "cell_type": "markdown",
      "metadata": {
        "id": "ZUGSvp53kqRd"
      },
      "source": [
        "지속적으로 변하는 인기검색 10위까지의 순위 & 이름 & 현재시가 크롤링해보기"
      ]
    },
    {
      "cell_type": "code",
      "metadata": {
        "id": "tWIhJPDakqRd",
        "colab": {
          "base_uri": "https://localhost:8080/"
        },
        "outputId": "04a815ce-a7c1-447c-8dea-56484626d9cd"
      },
      "source": [
        "import requests\n",
        "import json            #json import하기\n",
        "\n",
        "#custom_header 설정 안해주면 막혀요\n",
        "custom_header = {\n",
        "    'referer' : 'http://http://finance.daum.net/quotes/A048410#home',\n",
        "    'user-agent' : 'Mozilla/5.0 (Macintosh; Intel Mac OS X 10_14_4) AppleWebKit/537.36 (KHTML, like Gecko) Chrome/73.0.3683.103 Safari/537.36'  }\n",
        "\n",
        "#해당 접속 사이트가 아닌 원본데이터가 오는 url 추적. network에서 가지고 온다.\n",
        "url = \"http://finance.daum.net/api/search/ranks?limit=10\"\n",
        "\n",
        "req = requests.get(url, headers = custom_header)    #custom_header를 사용하지 않으면 접근 불가\n",
        "\n",
        "if req.status_code == requests.codes.ok:    \n",
        "    print(\"접속 성공\")\n",
        "    stock_data = json.loads(req.text)        #json에 반환된 데이터가 들어가 있다.\n",
        "    for rank in stock_data['data']:         #stock_data는 'data' key값에 모든 정보가 들어가 있다.\n",
        "        print(rank['rank'], rank['symbolCode'], rank['name'], rank['tradePrice'])\n",
        "\n",
        "else:\n",
        "    print(\"Error code\")"
      ],
      "execution_count": 16,
      "outputs": [
        {
          "output_type": "stream",
          "text": [
            "접속 성공\n",
            "1 A035720 카카오 498000.0\n",
            "2 A302440 SK바이오사이언스 169000\n",
            "3 A005930 삼성전자 82900.0\n",
            "4 A041190 우리기술투자 7180.0\n",
            "5 A024890 대원화성 2655.0\n",
            "6 A000270 기아차 87700.0\n",
            "7 A011200 HMM 23600.0\n",
            "8 A032350 롯데관광개발 20150.0\n",
            "9 A096040 이트론 791.0\n",
            "10 A204020 그리티 3035.0\n"
          ],
          "name": "stdout"
        }
      ]
    },
    {
      "cell_type": "code",
      "metadata": {
        "id": "Nc0gIpXjkqRe"
      },
      "source": [
        ""
      ],
      "execution_count": null,
      "outputs": []
    }
  ]
}